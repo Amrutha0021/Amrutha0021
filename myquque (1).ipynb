{
 "cells": [
  {
   "cell_type": "markdown",
   "id": "d83d2bbf-f78e-476f-8eba-f519301dbd99",
   "metadata": {},
   "source": [
    "creat a class called 'myqueue'which can handle 1.enqueue 2.dequeue 3.isempty"
   ]
  },
  {
   "cell_type": "code",
   "execution_count": 2,
   "id": "208db34e-3e96-4145-b18e-8a49e06fbb17",
   "metadata": {},
   "outputs": [],
   "source": [
    "class myqueue:\n",
    "    def __init__(self):\n",
    "        self.myqueue=[] \n",
    "    def enqueue(self,item):\n",
    "        self.myqueue.append(item)\n",
    "    def dequeue(self):\n",
    "        print(self.myqueue.pop(0))\n",
    "    def isempty(self):\n",
    "        return len(self.myqueue)==0\n",
    "    def display(self):\n",
    "        if self.queue:\n",
    "            return self.queue\n",
    "        else:\n",
    "            print(\"no queue to display\")\n",
    "    def size(self):\n",
    "        return len(self.queue)\n",
    "    "
   ]
  },
  {
   "cell_type": "code",
   "execution_count": 3,
   "id": "4a093247-cd41-4f72-a4d7-7b4321f5ebf2",
   "metadata": {},
   "outputs": [],
   "source": [
    "a=myqueue()\n",
    "a.enqueue(50)\n",
    "a.enqueue(60)\n",
    "a.enqueue(70)"
   ]
  },
  {
   "cell_type": "code",
   "execution_count": 4,
   "id": "e5d60147-524b-4b57-ac49-73749dda7f20",
   "metadata": {},
   "outputs": [
    {
     "name": "stdout",
     "output_type": "stream",
     "text": [
      "50\n"
     ]
    }
   ],
   "source": [
    "a.dequeue()"
   ]
  },
  {
   "cell_type": "code",
   "execution_count": 5,
   "id": "fbcb6b0d-7375-4ae4-92db-3a333b093a8d",
   "metadata": {},
   "outputs": [
    {
     "name": "stdout",
     "output_type": "stream",
     "text": [
      "60\n"
     ]
    }
   ],
   "source": [
    "a.dequeue()"
   ]
  },
  {
   "cell_type": "code",
   "execution_count": 6,
   "id": "a95a3c95-554a-4b6c-bbc5-d1d632adb16b",
   "metadata": {},
   "outputs": [
    {
     "name": "stdout",
     "output_type": "stream",
     "text": [
      "70\n"
     ]
    }
   ],
   "source": [
    "a.dequeue()"
   ]
  },
  {
   "cell_type": "code",
   "execution_count": 10,
   "id": "a4627df7-cb23-479e-84f7-d8b954c4d2a2",
   "metadata": {},
   "outputs": [],
   "source": [
    "def sum(arr):\n",
    "        even=[]\n",
    "        odd=[]\n",
    "        for i in range(len(arr)):\n",
    "            if i%2==0:\n",
    "                even.append(arr[i])\n",
    "            else:\n",
    "                odd.append(arr[i])\n",
    "        even.sort(reverse=True)\n",
    "        odd.sort()\n",
    "        return even[1]+odd[1]\n",
    "      "
   ]
  },
  {
   "cell_type": "code",
   "execution_count": 11,
   "id": "b255fab4-0ce4-4f8d-839b-6d258effdad5",
   "metadata": {},
   "outputs": [
    {
     "data": {
      "text/plain": [
       "11"
      ]
     },
     "execution_count": 11,
     "metadata": {},
     "output_type": "execute_result"
    }
   ],
   "source": [
    "arr=[5,7,8,3,2,6]\n",
    "sum(arr)"
   ]
  },
  {
   "cell_type": "code",
   "execution_count": null,
   "id": "31ea5a82-50f5-4d92-a0e3-83e776c11d35",
   "metadata": {},
   "outputs": [],
   "source": [
    "def diff():\n"
   ]
  }
 ],
 "metadata": {
  "kernelspec": {
   "display_name": "Python 3 (ipykernel)",
   "language": "python",
   "name": "python3"
  },
  "language_info": {
   "codemirror_mode": {
    "name": "ipython",
    "version": 3
   },
   "file_extension": ".py",
   "mimetype": "text/x-python",
   "name": "python",
   "nbconvert_exporter": "python",
   "pygments_lexer": "ipython3",
   "version": "3.11.7"
  }
 },
 "nbformat": 4,
 "nbformat_minor": 5
}
