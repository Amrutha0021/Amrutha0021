{
 "cells": [
  {
   "cell_type": "markdown",
   "id": "dd77cf55-11e0-4757-b1e0-82f52ac968e9",
   "metadata": {},
   "source": [
    "Linkedlist"
   ]
  },
  {
   "cell_type": "code",
   "execution_count": 183,
   "id": "9cd91f2a-37ca-4398-a4d4-bc0d85010d30",
   "metadata": {},
   "outputs": [],
   "source": [
    "#class mynode:\n",
    "    def __init__(self,data):\n",
    "        self.data=none\n",
    "        self.next=none"
   ]
  },
  {
   "cell_type": "markdown",
   "id": "43b39926-baf5-474a-bcdc-c08861737732",
   "metadata": {},
   "source": [
    "class Linkedlist:\n",
    "    def __init__(self):\n",
    "     self.data=none"
   ]
  },
  {
   "cell_type": "code",
   "execution_count": 184,
   "id": "fe65f8d7-b2ff-4354-8dcc-4965c27121eb",
   "metadata": {},
   "outputs": [],
   "source": [
    "#def insert_bigin(self):\n",
    "    new_nd=Node(data)\n",
    "    new_nd.next=self.head#next node of new node is current head\n",
    "    self.head=new_node#head is assigned to new node"
   ]
  },
  {
   "cell_type": "markdown",
   "id": "975340b3-2b80-4368-b388-1f690e068366",
   "metadata": {},
   "source": [
    "create a class named mylinkedlist which can intialize new node"
   ]
  },
  {
   "cell_type": "code",
   "execution_count": 185,
   "id": "4f7a775d-347a-4246-b2ac-dd97bbf05566",
   "metadata": {},
   "outputs": [],
   "source": [
    "#class mylinkedlist:\n",
    "    def __init__(self):\n",
    "        self.head=none\n",
    "    def insert_bigin(self,data):\n",
    "         new_nd=Node(data)\n",
    "         new_nd.next=self.head\n",
    "         self.head=new_node"
   ]
  },
  {
   "cell_type": "code",
   "execution_count": 186,
   "id": "ab2c95c3-deb5-4b6a-89c9-4ad722ef1955",
   "metadata": {},
   "outputs": [],
   "source": [
    "#def inserted(self,data):\n",
    "   nd1=Node(data)\n",
    "   if self.head==none:\n",
    "       self.head=nd1\n",
    "       return\n",
    "   current=self.head\n",
    "   while current.next:\n",
    "       current=current.next\n",
    "   current.next=nd1    "
   ]
  },
  {
   "cell_type": "code",
   "execution_count": 187,
   "id": "e2048f19-3c7f-4163-9951-73af93966682",
   "metadata": {},
   "outputs": [],
   "source": [
    " #def inserted(self,data):\n",
    "   nd1=Node(data)\n",
    "   if self.head==none:\n",
    "       self.head=nd1\n",
    "       return\n",
    "   current=self.head\n",
    "   while current.data:\n",
    "       current=current.data\n",
    "   current.data=nd1    "
   ]
  },
  {
   "cell_type": "code",
   "execution_count": 188,
   "id": "f86b6aeb-bddc-47d5-9b2b-d493059c58ed",
   "metadata": {},
   "outputs": [
    {
     "ename": "SyntaxError",
     "evalue": "invalid syntax (2058144477.py, line 2)",
     "output_type": "error",
     "traceback": [
      "\u001b[1;36m  Cell \u001b[1;32mIn[188], line 2\u001b[1;36m\u001b[0m\n\u001b[1;33m    nd1=Node:\u001b[0m\n\u001b[1;37m            ^\u001b[0m\n\u001b[1;31mSyntaxError\u001b[0m\u001b[1;31m:\u001b[0m invalid syntax\n"
     ]
    }
   ],
   "source": [
    "#\n",
    "def inserted(self,data):\n",
    "   nd1=Node:\n",
    "   if self.head==none:\n",
    "       self.head=nd1\n",
    "       return\n",
    "   current=self.head\n",
    "   while current.next:\n",
    "       current=current.next\n",
    "   current.next=nd1    "
   ]
  },
  {
   "cell_type": "code",
   "execution_count": null,
   "id": "e40c6fd4-4a9d-4be9-a01e-3c14ef8ddc3d",
   "metadata": {},
   "outputs": [],
   "source": [
    "class mylinkedlist:\n",
    "   class mynode:\n",
    "      def __init__(self,data):\n",
    "        self.data=data\n",
    "        self.next=None  \n",
    "       \n",
    "   def __init__(self):\n",
    "        self.head=None\n",
    "   def insert_bigin(self,data):\n",
    "         new_nd=mylinkedlist.mynode(data)\n",
    "    \n",
    "       \n",
    "   def insert_end(self,data):\n",
    "    \n",
    "       \n",
    "        new_nd=mylinkedlist.mynode(data)\n",
    "        if self.head==None:\n",
    "          self.head=new_nd\n",
    "          return\n",
    "        current=self.head\n",
    "        while current.next:\n",
    "          current=current.next\n",
    "        current.next=new_nd    \n"
   ]
  },
  {
   "cell_type": "code",
   "execution_count": null,
   "id": "890f698b-16f1-462c-8300-8fd9fafd4682",
   "metadata": {},
   "outputs": [],
   "source": [
    "j=mylinkedlist\n",
    "j.insert_bigin(40)"
   ]
  },
  {
   "cell_type": "code",
   "execution_count": 80,
   "id": "708a12fd-ad85-47f6-a274-edf7911b410f",
   "metadata": {},
   "outputs": [],
   "source": [
    "class mylinkedlist:\n",
    "  class mynode:\n",
    "       def __init__(self,data):\n",
    "        self.data=data\n",
    "        self.next=None  \n",
    "       \n",
    "  def __init__(self):\n",
    "        self.head=None\n",
    "  def insert_bigin(self,data):\n",
    "         new_nd=mylinkedlist.mynode(data)\n",
    "         new_nd.next=self.head\n",
    "         self.head=new_nd\n",
    "  def insert_end(self,data):\n",
    "        new_nd=mylinkedlist.mynode(data)\n",
    "        if self.head==None:\n",
    "          self.head=new_nd\n",
    "          return\n",
    "        current=self.head\n",
    "        while current.next:\n",
    "          current=current.next\n",
    "        current.next=new_nd    \n",
    "  def insertaft(self,data,prev_node):\n",
    "     new_node = mylinkedlist.mynode(data)\n",
    "     new_node.next=prev_node.next\n",
    "     prev_node.next=new_node\n",
    "  def print_LL(self):\n",
    "      current=self.head\n",
    "      while current:\n",
    "          print(current.data)\n",
    "          current=current.next\n",
    "  def search(self,val):\n",
    "       current=self.head\n",
    "       while current:\n",
    "           if(current.data==val):\n",
    "               return True\n",
    "           current=current.next\n",
    "       return False \n",
    "  def delete_first(self):\n",
    "      self.head=self.head.next\n",
    "  def deleteend(self):\n",
    "      current=self.head\n",
    "      while current.next.next:\n",
    "          current=current.next\n",
    "      current.next=None\n",
    "  def delbyval(self,x):\n",
    "      if self.head.data==x:\n",
    "         self.head=self.head.next\n",
    "      current =self.head\n",
    "      while current.next:\n",
    "          if current.next.data != x:\n",
    "              current=current.next\n",
    "          else:\n",
    "              break\n",
    "      if current.next:\n",
    "          current.next=current.next.next\n",
    "      else:\n",
    "          return \"not found\"\n",
    "          \n",
    "              "
   ]
  },
  {
   "cell_type": "code",
   "execution_count": 81,
   "id": "27e2d946-d3cf-47bc-b910-102dd0539d06",
   "metadata": {},
   "outputs": [
    {
     "name": "stdout",
     "output_type": "stream",
     "text": [
      "30\n",
      "20\n",
      "10\n"
     ]
    },
    {
     "data": {
      "text/plain": [
       "True"
      ]
     },
     "execution_count": 81,
     "metadata": {},
     "output_type": "execute_result"
    }
   ],
   "source": [
    "j=mylinkedlist()\n",
    "j.insert_bigin(10)\n",
    "j.insert_bigin(20)\n",
    "j.insert_bigin(30)\n",
    "j.print_LL()\n",
    "j.search(30)"
   ]
  },
  {
   "cell_type": "code",
   "execution_count": 82,
   "id": "620e5e75-f5f1-443b-9783-156e03b64571",
   "metadata": {},
   "outputs": [
    {
     "name": "stdout",
     "output_type": "stream",
     "text": [
      "30\n",
      "20\n",
      "10\n"
     ]
    }
   ],
   "source": [
    "j.print_LL()"
   ]
  },
  {
   "cell_type": "code",
   "execution_count": 85,
   "id": "1bf67145-1ad5-4adb-9c5f-30193e93ed89",
   "metadata": {},
   "outputs": [
    {
     "name": "stdout",
     "output_type": "stream",
     "text": [
      "30\n",
      "10\n"
     ]
    }
   ],
   "source": [
    "j.delbyval(20)\n",
    "\n",
    "\n",
    "j.print_LL()"
   ]
  },
  {
   "cell_type": "code",
   "execution_count": null,
   "id": "d0f6ef24-5323-497b-b654-7e71e8b14810",
   "metadata": {},
   "outputs": [],
   "source": [
    "\n",
    "\n",
    "\n"
   ]
  }
 ],
 "metadata": {
  "kernelspec": {
   "display_name": "Python 3 (ipykernel)",
   "language": "python",
   "name": "python3"
  },
  "language_info": {
   "codemirror_mode": {
    "name": "ipython",
    "version": 3
   },
   "file_extension": ".py",
   "mimetype": "text/x-python",
   "name": "python",
   "nbconvert_exporter": "python",
   "pygments_lexer": "ipython3",
   "version": "3.11.7"
  }
 },
 "nbformat": 4,
 "nbformat_minor": 5
}
