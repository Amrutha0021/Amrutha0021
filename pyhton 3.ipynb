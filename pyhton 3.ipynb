{
 "cells": [
  {
   "cell_type": "code",
   "execution_count": 66,
   "id": "0b5280bc-d30c-4a26-806a-7cc4a63295e5",
   "metadata": {},
   "outputs": [],
   "source": [
    "def Password(str, n):\n",
    "    \n",
    "    if n < 4:\n",
    "        return 0\n",
    "    \n",
    "    \n",
    "    if str[0].isdigit():\n",
    "        return 0\n",
    "    \n",
    "    \n",
    "    has_digit = False\n",
    "    has_uppercase = False\n",
    "    \n",
    "    \n",
    "    for char in str:\n",
    "        if char.isdigit():\n",
    "            has_digit = True\n",
    "        if char.isupper():\n",
    "            has_uppercase = True\n",
    "        if char == ' ' or char == '/':\n",
    "            return 0\n",
    "    if has_digit and has_uppercase:\n",
    "        return 1\n",
    "    else:\n",
    "        return 0"
   ]
  },
  {
   "cell_type": "code",
   "execution_count": 67,
   "id": "6952b7f8-e050-4248-ad6b-6a072fdbbed8",
   "metadata": {},
   "outputs": [
    {
     "name": "stdout",
     "output_type": "stream",
     "text": [
      "0\n"
     ]
    }
   ],
   "source": [
    "password = \"amrutha\"\n",
    "n = len(password)\n",
    "print(Password(password, n)) "
   ]
  },
  {
   "cell_type": "code",
   "execution_count": 68,
   "id": "94f1a235-54e7-484f-bf58-dbdc1ccc7d9a",
   "metadata": {},
   "outputs": [
    {
     "name": "stdout",
     "output_type": "stream",
     "text": [
      "1\n"
     ]
    }
   ],
   "source": [
    "password = \"Amrutha2006\"\n",
    "n = len(password)\n",
    "print(Password(password, n))"
   ]
  },
  {
   "cell_type": "code",
   "execution_count": 69,
   "id": "6ce06993-cb03-4056-930e-560ced0cf917",
   "metadata": {},
   "outputs": [],
   "source": [
    "class queue:\n",
    "    def __init__(self):\n",
    "        self.queue=[]\n",
    "    def enqueue(self,item):\n",
    "        self.queue.append(item)\n",
    "    def dequeue(self):\n",
    "        if len(self.queue)!=0:\n",
    "            return self.queue.pop(0)\n",
    "        else:\n",
    "            print(\"queue is empty\")\n",
    "    def isempty(self):\n",
    "        return len(self.queue)==0\n",
    "    def size(self):\n",
    "        return len(self.queue)\n",
    "    def display(self):\n",
    "        if self.queue:\n",
    "            return self.queue\n",
    "        else:\n",
    "            'queue is empty'\n",
    "        \n",
    "    "
   ]
  },
  {
   "cell_type": "code",
   "execution_count": 70,
   "id": "d49eab93-de9b-4ea3-94f4-298a24ba349e",
   "metadata": {},
   "outputs": [],
   "source": [
    "r=queue()"
   ]
  },
  {
   "cell_type": "code",
   "execution_count": 71,
   "id": "d50f2c7b-e078-455c-b73a-d72f389229c6",
   "metadata": {},
   "outputs": [],
   "source": [
    "r.enqueue(7)\n",
    "r.enqueue(9)\n",
    "r.enqueue(6)\n",
    "r.enqueue(3)"
   ]
  },
  {
   "cell_type": "code",
   "execution_count": 72,
   "id": "7dc6bb62-f0c3-43f6-91e3-19a6e3e38e9f",
   "metadata": {},
   "outputs": [
    {
     "data": {
      "text/plain": [
       "4"
      ]
     },
     "execution_count": 72,
     "metadata": {},
     "output_type": "execute_result"
    }
   ],
   "source": [
    "r.size()"
   ]
  },
  {
   "cell_type": "code",
   "execution_count": 73,
   "id": "b8a1d9ac-aa60-4732-8d7c-7d940eabc2bb",
   "metadata": {},
   "outputs": [
    {
     "data": {
      "text/plain": [
       "[7, 9, 6, 3]"
      ]
     },
     "execution_count": 73,
     "metadata": {},
     "output_type": "execute_result"
    }
   ],
   "source": [
    "r.display()"
   ]
  },
  {
   "cell_type": "code",
   "execution_count": 74,
   "id": "944ef3b1-99b2-4709-8f45-32ddca7e0d62",
   "metadata": {},
   "outputs": [
    {
     "data": {
      "text/plain": [
       "False"
      ]
     },
     "execution_count": 74,
     "metadata": {},
     "output_type": "execute_result"
    }
   ],
   "source": [
    "r.isempty()"
   ]
  },
  {
   "cell_type": "code",
   "execution_count": 75,
   "id": "a960fcb8-761d-40d5-8982-0530fd50390e",
   "metadata": {},
   "outputs": [
    {
     "data": {
      "text/plain": [
       "7"
      ]
     },
     "execution_count": 75,
     "metadata": {},
     "output_type": "execute_result"
    }
   ],
   "source": [
    "r.dequeue()"
   ]
  },
  {
   "cell_type": "code",
   "execution_count": 76,
   "id": "182a6b34-0f48-4876-b06d-d9a482bd1995",
   "metadata": {},
   "outputs": [
    {
     "data": {
      "text/plain": [
       "9"
      ]
     },
     "execution_count": 76,
     "metadata": {},
     "output_type": "execute_result"
    }
   ],
   "source": [
    "r.dequeue()"
   ]
  },
  {
   "cell_type": "code",
   "execution_count": 77,
   "id": "7d66d9a0-1e3e-43b7-ad8c-30ef3da5151e",
   "metadata": {},
   "outputs": [
    {
     "data": {
      "text/plain": [
       "6"
      ]
     },
     "execution_count": 77,
     "metadata": {},
     "output_type": "execute_result"
    }
   ],
   "source": [
    "r.dequeue()\n"
   ]
  },
  {
   "cell_type": "code",
   "execution_count": 78,
   "id": "f15962c3-ed8d-4a28-b525-40233c90e5a4",
   "metadata": {},
   "outputs": [
    {
     "data": {
      "text/plain": [
       "3"
      ]
     },
     "execution_count": 78,
     "metadata": {},
     "output_type": "execute_result"
    }
   ],
   "source": [
    "r.dequeue()"
   ]
  },
  {
   "cell_type": "code",
   "execution_count": 79,
   "id": "399f806d-47d1-4728-a6a6-bfe85a1b6f38",
   "metadata": {},
   "outputs": [
    {
     "name": "stdout",
     "output_type": "stream",
     "text": [
      "queue is empty\n"
     ]
    }
   ],
   "source": [
    "r.dequeue()"
   ]
  },
  {
   "cell_type": "code",
   "execution_count": 80,
   "id": "fe4a49c2-79da-447c-91b4-11523dc3adf9",
   "metadata": {},
   "outputs": [
    {
     "data": {
      "text/plain": [
       "True"
      ]
     },
     "execution_count": 80,
     "metadata": {},
     "output_type": "execute_result"
    }
   ],
   "source": [
    "r.isempty()"
   ]
  },
  {
   "cell_type": "code",
   "execution_count": 81,
   "id": "46848349-8c4d-48af-ae50-b7ee8f8a50fe",
   "metadata": {},
   "outputs": [
    {
     "name": "stdout",
     "output_type": "stream",
     "text": [
      "Original Queue:\n",
      "1 2 3 4 5 6 7 9 0 \n",
      "Reversed Queue:\n",
      "0 9 7 6 5 4 3 2 1 "
     ]
    }
   ],
   "source": [
    "from queue import Queue\n",
    "\n",
    "def reverseQueue(q):\n",
    "    stack = []\n",
    "    while not q.empty():\n",
    "        stack.append(q.get())\n",
    "    while stack:\n",
    "        q.put(stack.pop())\n",
    "q = Queue()\n",
    "elements = [1, 2, 3, 4, 5,6,7,9,0]\n",
    "\n",
    "for elem in elements:\n",
    "    q.put(elem)\n",
    "\n",
    "print(\"Original Queue:\")\n",
    "original_elements = []\n",
    "for i in range(q.qsize()):\n",
    "    elem = q.get()\n",
    "    print(elem, end=\" \")\n",
    "    original_elements.append(elem)\n",
    "    q.put(elem)\n",
    "reverseQueue(q)\n",
    "print(\"\\nReversed Queue:\")\n",
    "for i in range(q.qsize()):\n",
    "    elem = q.get()\n",
    "    print(elem, end=\" \")\n",
    "    q.put(elem)\n"
   ]
  },
  {
   "cell_type": "code",
   "execution_count": null,
   "id": "99e2416f-3f97-444d-bfb2-7d12d8ff6f65",
   "metadata": {},
   "outputs": [],
   "source": []
  }
 ],
 "metadata": {
  "kernelspec": {
   "display_name": "Python 3 (ipykernel)",
   "language": "python",
   "name": "python3"
  },
  "language_info": {
   "codemirror_mode": {
    "name": "ipython",
    "version": 3
   },
   "file_extension": ".py",
   "mimetype": "text/x-python",
   "name": "python",
   "nbconvert_exporter": "python",
   "pygments_lexer": "ipython3",
   "version": "3.11.7"
  }
 },
 "nbformat": 4,
 "nbformat_minor": 5
}
