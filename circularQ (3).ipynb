{
 "cells": [
  {
   "cell_type": "markdown",
   "id": "ba6f79f4-47c1-44cd-9bad-ae7fca20709c",
   "metadata": {},
   "source": [
    "#circular queue implimentation with fixed size"
   ]
  },
  {
   "cell_type": "markdown",
   "id": "a98c30fd-0ae5-4708-a3f0-0b39b7fd180c",
   "metadata": {},
   "source": [
    "1.intialize:\n",
    " -size\n",
    " -Front pointer(exit)\n",
    " -Rear pointer(entry)\n",
    " -Queue(list)\n",
    "2.Enqueue:\n",
    "  -Queue is full(rear+1==front)\n",
    "  -First element(rear=front=0)then append\n",
    "  -Entering anywhere exept at the bigining(rear=rear+1%size),then append\n",
    "3.Dequeue\n",
    "    -Rear=front=-1(queue empty)\n",
    "    -Rear=front(only one element remaining)(pop it by moving the front & rear to-1)\n",
    "    -Dequeue the element pointed by front pointer(front means first element)&increment front pointer\n",
    "    dequeue=Moving the front pointer to next value"
   ]
  },
  {
   "cell_type": "code",
   "execution_count": 64,
   "id": "8ee766e6-6572-466d-8a9e-a2c5f478634d",
   "metadata": {},
   "outputs": [],
   "source": [
    "class circularQ:\n",
    "    def __init__(self,size):\n",
    "        self.size=size\n",
    "        self.front=self.rear=-1\n",
    "        self.queue=[None]*size\n",
    "    def enqueue(self,data):\n",
    "        if (self.rear+1)%self.size==self.front:\n",
    "            print(\"Queue is full\")\n",
    "        elif self.front==-1:\n",
    "            self.front=self.rear=0\n",
    "            self.queue[self.rear]=data\n",
    "        else:\n",
    "            self.rear=(self.rear+1)%self.size\n",
    "            self.queue[self.rear]=data\n",
    "    def dequeue(self):\n",
    "        if self.front==-1:\n",
    "            print(\"Queue is empty\")\n",
    "        elif self.front==self.rear:\n",
    "            self.front=self.rear=-1\n",
    "        else:\n",
    "            self.front=(self.front+1)%self.size\n",
    "    def display(self):\n",
    "        if self.front==-1:\n",
    "            print(\"Queue is empty\")\n",
    "            return\n",
    "        i=self.front\n",
    "        while True:\n",
    "            print(self.queue[i])\n",
    "            if i==self.rear:\n",
    "                break\n",
    "            i=(i+1)%self.size\n",
    "        "
   ]
  },
  {
   "cell_type": "code",
   "execution_count": 65,
   "id": "82b6bd73-b11d-444e-ba1f-bb53664c9d2b",
   "metadata": {},
   "outputs": [],
   "source": [
    "Q=circularQ(3)\n",
    "Q.enqueue(1)\n",
    "Q.enqueue(2)\n",
    "Q.enqueue(3)"
   ]
  },
  {
   "cell_type": "code",
   "execution_count": 66,
   "id": "17396017-2ce0-46eb-8b83-1be0005b542e",
   "metadata": {},
   "outputs": [
    {
     "name": "stdout",
     "output_type": "stream",
     "text": [
      "Queue is full\n"
     ]
    }
   ],
   "source": [
    "Q.enqueue(5)"
   ]
  },
  {
   "cell_type": "code",
   "execution_count": 67,
   "id": "bca692f4-7915-400c-94f1-4276b9e9e700",
   "metadata": {},
   "outputs": [
    {
     "name": "stdout",
     "output_type": "stream",
     "text": [
      "Queue is empty\n"
     ]
    }
   ],
   "source": [
    "Q.dequeue()\n",
    "Q.dequeue()\n",
    "Q.dequeue()\n",
    "Q.dequeue()\n"
   ]
  },
  {
   "cell_type": "code",
   "execution_count": 68,
   "id": "7dbca7c1-fd09-4bec-9c8b-1e7c73b41e6f",
   "metadata": {},
   "outputs": [],
   "source": [
    "Q=circularQ(3)\n",
    "Q.enqueue(10)\n",
    "Q.enqueue(20)\n",
    "Q.enqueue(30)"
   ]
  },
  {
   "cell_type": "code",
   "execution_count": 69,
   "id": "80b89cc9-968e-4a7c-8882-55df50a4c076",
   "metadata": {},
   "outputs": [
    {
     "name": "stdout",
     "output_type": "stream",
     "text": [
      "10\n",
      "20\n",
      "30\n"
     ]
    }
   ],
   "source": [
    "Q.display()"
   ]
  },
  {
   "cell_type": "code",
   "execution_count": null,
   "id": "af1647fe-f7a8-42df-873a-521447cc46d0",
   "metadata": {},
   "outputs": [],
   "source": []
  }
 ],
 "metadata": {
  "kernelspec": {
   "display_name": "Python 3 (ipykernel)",
   "language": "python",
   "name": "python3"
  },
  "language_info": {
   "codemirror_mode": {
    "name": "ipython",
    "version": 3
   },
   "file_extension": ".py",
   "mimetype": "text/x-python",
   "name": "python",
   "nbconvert_exporter": "python",
   "pygments_lexer": "ipython3",
   "version": "3.11.7"
  }
 },
 "nbformat": 4,
 "nbformat_minor": 5
}
